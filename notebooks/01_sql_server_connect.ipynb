{
 "cells": [
  {
   "cell_type": "markdown",
   "metadata": {},
   "source": [
    "# How to connect to a SQL server\n",
    "\n",
    "- Make sure that when you are running notebooks you select the right venv. This venv holds all your packages which you will need to code. \n",
    "- Download the ipykernel package. You can do this by running ```pip install ipykernel``` in your terminal. Make sure you are within your activated .venv!"
   ]
  },
  {
   "cell_type": "markdown",
   "metadata": {},
   "source": [
    "First we do some import statements. It is common practice to put these at the top of your script."
   ]
  },
  {
   "cell_type": "code",
   "execution_count": 23,
   "metadata": {},
   "outputs": [],
   "source": [
    "import pyodbc\n",
    "import pandas as pd\n",
    "from dotenv import load_dotenv # we need this to store environment variables (this is not needed when coding locally)\n",
    "import os"
   ]
  },
  {
   "cell_type": "code",
   "execution_count": null,
   "metadata": {},
   "outputs": [],
   "source": [
    "# Only needed when using the .env file\n",
    "load_dotenv()"
   ]
  },
  {
   "cell_type": "code",
   "execution_count": 25,
   "metadata": {},
   "outputs": [],
   "source": [
    "f_server = os.getenv(\"SERVER_Fabric\")\n",
    "f_database = os.getenv(\"DB_Fabric\")\n",
    "f_uid = os.getenv(\"UID_Fabric\")\n",
    "f_pwd = os.getenv(\"PWD_Fabric\")"
   ]
  },
  {
   "cell_type": "code",
   "execution_count": null,
   "metadata": {},
   "outputs": [],
   "source": [
    "f_server, f_database, f_uid, f_pwd"
   ]
  },
  {
   "cell_type": "markdown",
   "metadata": {},
   "source": [
    "It could be possible that this does not work out of the gate for you. One issue might be that you don't have the correct drivers installed. To find these:\n",
    "1. Go to your search bar and look for ODBC Data Sources\n",
    "2. Go to 'drivers' or 'stuurprogramma'\n",
    "3. Scroll through the list and find 'ODBC Driver XX for SQL Server\n",
    "\n",
    "![ODBC Image](..\\images\\ODBC.png)\n",
    "\n",
    "To download drivers visit: \n",
    "https://learn.microsoft.com/en-us/sql/connect/odbc/download-odbc-driver-for-sql-server?view=sql-server-ver16\n",
    "\n",
    "Keep in mind that some versions work with different versions of servers. So if 17 does not work try 18."
   ]
  },
  {
   "cell_type": "code",
   "execution_count": 27,
   "metadata": {},
   "outputs": [],
   "source": [
    "fabric_conn = pyodbc.connect(f'DRIVER={{ODBC Driver 17 for SQL Server}}; \\\n",
    "                             SERVER={f_server}; \\\n",
    "                             DATABASE={f_database}; \\\n",
    "                             Authentication=ActiveDirectoryPassword; \\\n",
    "                             UID={f_uid}; \\\n",
    "                             PWD={f_pwd}; \\\n",
    "                             ConnectionTimeout=60')"
   ]
  },
  {
   "cell_type": "code",
   "execution_count": null,
   "metadata": {},
   "outputs": [],
   "source": [
    "tableresult = pd.read_sql(\"SELECT * FROM Training_DF_Youri\", fabric_conn)"
   ]
  },
  {
   "cell_type": "markdown",
   "metadata": {},
   "source": [
    "You will get an warning using when using pyodbc. This doesn't matter for now since all we do is read tables which works just fine. There are workarounds for this, so feel free to explore these on your own. But as you can see below we are able to run the tableresult!"
   ]
  },
  {
   "cell_type": "code",
   "execution_count": null,
   "metadata": {},
   "outputs": [],
   "source": [
    "tableresult.head()"
   ]
  },
  {
   "cell_type": "markdown",
   "metadata": {},
   "source": [
    "We read from a fabric database. This is useful for some, but since we have on premise sql databases aswell I would like to show you have to connect to these as well."
   ]
  },
  {
   "cell_type": "code",
   "execution_count": 30,
   "metadata": {},
   "outputs": [],
   "source": [
    "server = os.getenv(\"SERVER_SQL\")\n",
    "database = os.getenv(\"DB_SQL\")\n",
    "uid = os.getenv(\"UID_SQL\")\n",
    "pwd = os.getenv(\"PWD_SQL\")"
   ]
  },
  {
   "cell_type": "code",
   "execution_count": null,
   "metadata": {},
   "outputs": [],
   "source": [
    "server, database, uid, pwd"
   ]
  },
  {
   "cell_type": "code",
   "execution_count": 32,
   "metadata": {},
   "outputs": [],
   "source": [
    "sql_conn = pyodbc.connect(f'Trusted_Connection=yes;DRIVER={{ODBC Driver 17 for SQL Server}};SERVER={server};DATABASE={database};UID={uid};PWD={pwd};ConnectionTimeout=60')"
   ]
  },
  {
   "cell_type": "code",
   "execution_count": null,
   "metadata": {},
   "outputs": [],
   "source": [
    "sqlresult = pd.read_sql(\"SELECT * FROM dbo.CordaanDB\", sql_conn)"
   ]
  },
  {
   "cell_type": "code",
   "execution_count": null,
   "metadata": {},
   "outputs": [],
   "source": [
    "sqlresult.head()"
   ]
  }
 ],
 "metadata": {
  "kernelspec": {
   "display_name": ".venv",
   "language": "python",
   "name": "python3"
  },
  "language_info": {
   "codemirror_mode": {
    "name": "ipython",
    "version": 3
   },
   "file_extension": ".py",
   "mimetype": "text/x-python",
   "name": "python",
   "nbconvert_exporter": "python",
   "pygments_lexer": "ipython3",
   "version": "3.12.5"
  }
 },
 "nbformat": 4,
 "nbformat_minor": 2
}
