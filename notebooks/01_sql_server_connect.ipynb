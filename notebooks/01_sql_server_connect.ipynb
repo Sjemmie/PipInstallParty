{
 "cells": [
  {
   "cell_type": "markdown",
   "metadata": {},
   "source": [
    "# How to connect to a SQL server\n",
    "\n",
    "- Make sure that when you are running notebooks you select the right venv. This venv holds all your packages which you will need to code. \n",
    "- Download the ipykernel package. You can do this by running ```pip install ipykernel``` in your terminal. Make sure you are within your activated .venv!"
   ]
  },
  {
   "cell_type": "markdown",
   "metadata": {},
   "source": [
    "First we do some import statements. It is common practice to put these at the top of your script."
   ]
  },
  {
   "cell_type": "code",
   "execution_count": 1,
   "metadata": {},
   "outputs": [],
   "source": [
    "import pyodbc\n",
    "import pandas as pd\n",
    "from dotenv import load_dotenv # we need this to store environment variables (this is not needed when coding locally)\n",
    "import os"
   ]
  },
  {
   "cell_type": "code",
   "execution_count": 2,
   "metadata": {},
   "outputs": [
    {
     "data": {
      "text/plain": [
       "True"
      ]
     },
     "execution_count": 2,
     "metadata": {},
     "output_type": "execute_result"
    }
   ],
   "source": [
    "# Only needed when using the .env file\n",
    "load_dotenv()"
   ]
  },
  {
   "cell_type": "code",
   "execution_count": 3,
   "metadata": {},
   "outputs": [],
   "source": [
    "f_server = os.getenv(\"SERVER_Fabric\")\n",
    "f_database = os.getenv(\"DB_Fabric\")\n",
    "f_uid = os.getenv(\"UID_Fabric\")\n",
    "f_pwd = os.getenv(\"PWD_Fabric\")"
   ]
  },
  {
   "cell_type": "code",
   "execution_count": 4,
   "metadata": {},
   "outputs": [
    {
     "data": {
      "text/plain": [
       "('zezfh2i6qj2uli7c3vmpvjiteu-grhoq4vpsf4utolejfewhqiu3i.datawarehouse.fabric.microsoft.com',\n",
       " 'Training_Staging_Lakehouse_Youri',\n",
       " 'SVC_PowerBi@innax.nl',\n",
       " 'kz3baCPF3KmABc8DpXeyVacbE6QkV5Nh')"
      ]
     },
     "execution_count": 4,
     "metadata": {},
     "output_type": "execute_result"
    }
   ],
   "source": [
    "f_server, f_database, f_uid, f_pwd"
   ]
  },
  {
   "cell_type": "markdown",
   "metadata": {},
   "source": [
    "It could be possible that this does not work out of the gate for you. One issue might be that you don't have the correct drivers installed. To find these:\n",
    "1. Go to your search bar and look for ODBC Data Sources\n",
    "2. Go to 'drivers' or 'stuurprogramma'\n",
    "3. Scroll through the list and find 'ODBC Driver XX for SQL Server\n",
    "\n",
    "![ODBC Image](C:\\Users\\YouriDibbet\\PipInstallParty\\images\\ODBC.png)\n",
    "\n",
    "To download drivers visit: \n",
    "https://learn.microsoft.com/en-us/sql/connect/odbc/download-odbc-driver-for-sql-server?view=sql-server-ver16\n",
    "\n",
    "Keep in mind that some versions work with different versions of servers. So if 17 does not work try 18."
   ]
  },
  {
   "cell_type": "code",
   "execution_count": 5,
   "metadata": {},
   "outputs": [],
   "source": [
    "fabric_conn = pyodbc.connect(f'DRIVER={{ODBC Driver 17 for SQL Server}};SERVER={f_server};DATABASE={f_database};Authentication=ActiveDirectoryPassword;UID={f_uid};PWD={f_pwd};ConnectionTimeout=60')"
   ]
  },
  {
   "cell_type": "code",
   "execution_count": 6,
   "metadata": {},
   "outputs": [
    {
     "name": "stderr",
     "output_type": "stream",
     "text": [
      "C:\\Users\\YouriDibbet\\AppData\\Local\\Temp\\ipykernel_13696\\4202022485.py:1: UserWarning: pandas only supports SQLAlchemy connectable (engine/connection) or database string URI or sqlite3 DBAPI2 connection. Other DBAPI2 objects are not tested. Please consider using SQLAlchemy.\n",
      "  tableresult = pd.read_sql(\"SELECT * FROM Training_DF_Youri\", fabric_conn)\n"
     ]
    }
   ],
   "source": [
    "tableresult = pd.read_sql(\"SELECT * FROM Training_DF_Youri\", fabric_conn)"
   ]
  },
  {
   "cell_type": "markdown",
   "metadata": {},
   "source": [
    "You will get an warning using when using pyodbc. This doesn't matter for now since all we do is read tables which works just fine. There are workarounds for this, so feel free to explore these on your own. But as you can see below we are able to run the tableresult!"
   ]
  },
  {
   "cell_type": "code",
   "execution_count": 7,
   "metadata": {},
   "outputs": [
    {
     "data": {
      "text/html": [
       "<div>\n",
       "<style scoped>\n",
       "    .dataframe tbody tr th:only-of-type {\n",
       "        vertical-align: middle;\n",
       "    }\n",
       "\n",
       "    .dataframe tbody tr th {\n",
       "        vertical-align: top;\n",
       "    }\n",
       "\n",
       "    .dataframe thead th {\n",
       "        text-align: right;\n",
       "    }\n",
       "</style>\n",
       "<table border=\"1\" class=\"dataframe\">\n",
       "  <thead>\n",
       "    <tr style=\"text-align: right;\">\n",
       "      <th></th>\n",
       "      <th>CustomerID</th>\n",
       "      <th>OrderID</th>\n",
       "      <th>OrderDate</th>\n",
       "      <th>ProductID</th>\n",
       "      <th>Quantity</th>\n",
       "      <th>Price</th>\n",
       "      <th>TotalAmount</th>\n",
       "      <th>Region</th>\n",
       "      <th>Category</th>\n",
       "      <th>PaymentMethod</th>\n",
       "      <th>Voornaam</th>\n",
       "    </tr>\n",
       "  </thead>\n",
       "  <tbody>\n",
       "    <tr>\n",
       "      <th>0</th>\n",
       "      <td>1000</td>\n",
       "      <td>40050</td>\n",
       "      <td>2023-05-13</td>\n",
       "      <td>320</td>\n",
       "      <td>9</td>\n",
       "      <td>28.68</td>\n",
       "      <td>258.12</td>\n",
       "      <td>Noord</td>\n",
       "      <td>Clothing</td>\n",
       "      <td>PayPal</td>\n",
       "      <td>Youri</td>\n",
       "    </tr>\n",
       "    <tr>\n",
       "      <th>1</th>\n",
       "      <td>1000</td>\n",
       "      <td>55012</td>\n",
       "      <td>2023-05-29</td>\n",
       "      <td>391</td>\n",
       "      <td>9</td>\n",
       "      <td>99.43</td>\n",
       "      <td>894.87</td>\n",
       "      <td>Zuid</td>\n",
       "      <td>Toys</td>\n",
       "      <td>PayPal</td>\n",
       "      <td>Youri</td>\n",
       "    </tr>\n",
       "    <tr>\n",
       "      <th>2</th>\n",
       "      <td>1000</td>\n",
       "      <td>55050</td>\n",
       "      <td>2023-05-01</td>\n",
       "      <td>392</td>\n",
       "      <td>7</td>\n",
       "      <td>81.31</td>\n",
       "      <td>569.17</td>\n",
       "      <td>Zuid</td>\n",
       "      <td>Toys</td>\n",
       "      <td>PayPal</td>\n",
       "      <td>Youri</td>\n",
       "    </tr>\n",
       "    <tr>\n",
       "      <th>3</th>\n",
       "      <td>1000</td>\n",
       "      <td>15083</td>\n",
       "      <td>2023-05-14</td>\n",
       "      <td>336</td>\n",
       "      <td>4</td>\n",
       "      <td>61.74</td>\n",
       "      <td>246.96</td>\n",
       "      <td>West</td>\n",
       "      <td>Books</td>\n",
       "      <td>PayPal</td>\n",
       "      <td>Youri</td>\n",
       "    </tr>\n",
       "    <tr>\n",
       "      <th>4</th>\n",
       "      <td>1000</td>\n",
       "      <td>50088</td>\n",
       "      <td>2023-05-14</td>\n",
       "      <td>351</td>\n",
       "      <td>6</td>\n",
       "      <td>65.15</td>\n",
       "      <td>390.90</td>\n",
       "      <td>Noord</td>\n",
       "      <td>Home</td>\n",
       "      <td>PayPal</td>\n",
       "      <td>Youri</td>\n",
       "    </tr>\n",
       "  </tbody>\n",
       "</table>\n",
       "</div>"
      ],
      "text/plain": [
       "   CustomerID  OrderID   OrderDate  ProductID  Quantity  Price  TotalAmount  \\\n",
       "0        1000    40050  2023-05-13        320         9  28.68       258.12   \n",
       "1        1000    55012  2023-05-29        391         9  99.43       894.87   \n",
       "2        1000    55050  2023-05-01        392         7  81.31       569.17   \n",
       "3        1000    15083  2023-05-14        336         4  61.74       246.96   \n",
       "4        1000    50088  2023-05-14        351         6  65.15       390.90   \n",
       "\n",
       "  Region  Category PaymentMethod Voornaam  \n",
       "0  Noord  Clothing        PayPal    Youri  \n",
       "1   Zuid      Toys        PayPal    Youri  \n",
       "2   Zuid      Toys        PayPal    Youri  \n",
       "3   West     Books        PayPal    Youri  \n",
       "4  Noord      Home        PayPal    Youri  "
      ]
     },
     "execution_count": 7,
     "metadata": {},
     "output_type": "execute_result"
    }
   ],
   "source": [
    "tableresult.head()"
   ]
  },
  {
   "cell_type": "markdown",
   "metadata": {},
   "source": [
    "We read from a fabric database. This is useful for some, but since we have on premise sql databases aswell I would like to show you have to connect to these as well."
   ]
  },
  {
   "cell_type": "code",
   "execution_count": 8,
   "metadata": {},
   "outputs": [],
   "source": [
    "server = os.getenv(\"SERVER_SQL\")\n",
    "database = os.getenv(\"DB_SQL\")\n",
    "uid = os.getenv(\"UID_SQL\")\n",
    "pwd = os.getenv(\"PWD_SQL\")"
   ]
  },
  {
   "cell_type": "code",
   "execution_count": 9,
   "metadata": {},
   "outputs": [
    {
     "data": {
      "text/plain": [
       "('INN-VEE-SQL12.innax.nl', 'EDS2', 'YouriDibbet', '!nnax20242')"
      ]
     },
     "execution_count": 9,
     "metadata": {},
     "output_type": "execute_result"
    }
   ],
   "source": [
    "server, database, uid, pwd"
   ]
  },
  {
   "cell_type": "code",
   "execution_count": 10,
   "metadata": {},
   "outputs": [],
   "source": [
    "sql_conn = pyodbc.connect(f'Trusted_Connection=yes;DRIVER={{ODBC Driver 17 for SQL Server}};SERVER={server};DATABASE={database};UID={uid};PWD={pwd};ConnectionTimeout=60')"
   ]
  },
  {
   "cell_type": "code",
   "execution_count": 11,
   "metadata": {},
   "outputs": [
    {
     "name": "stderr",
     "output_type": "stream",
     "text": [
      "C:\\Users\\YouriDibbet\\AppData\\Local\\Temp\\ipykernel_13696\\3608991547.py:1: UserWarning: pandas only supports SQLAlchemy connectable (engine/connection) or database string URI or sqlite3 DBAPI2 connection. Other DBAPI2 objects are not tested. Please consider using SQLAlchemy.\n",
      "  sqlresult = pd.read_sql(\"SELECT * FROM dbo.CordaanDB\", sql_conn)\n"
     ]
    }
   ],
   "source": [
    "sqlresult = pd.read_sql(\"SELECT * FROM dbo.CordaanDB\", sql_conn)"
   ]
  },
  {
   "cell_type": "code",
   "execution_count": 12,
   "metadata": {},
   "outputs": [
    {
     "data": {
      "text/html": [
       "<div>\n",
       "<style scoped>\n",
       "    .dataframe tbody tr th:only-of-type {\n",
       "        vertical-align: middle;\n",
       "    }\n",
       "\n",
       "    .dataframe tbody tr th {\n",
       "        vertical-align: top;\n",
       "    }\n",
       "\n",
       "    .dataframe thead th {\n",
       "        text-align: right;\n",
       "    }\n",
       "</style>\n",
       "<table border=\"1\" class=\"dataframe\">\n",
       "  <thead>\n",
       "    <tr style=\"text-align: right;\">\n",
       "      <th></th>\n",
       "      <th>EAN code</th>\n",
       "      <th>Allocatie punt</th>\n",
       "      <th>Status</th>\n",
       "      <th>Product</th>\n",
       "      <th>Tenaamstelling</th>\n",
       "      <th>tenaamstelling verkort</th>\n",
       "      <th>Naam aansluiting</th>\n",
       "      <th>Klant</th>\n",
       "      <th>Afdeling</th>\n",
       "      <th>Verantwoordelijke</th>\n",
       "      <th>...</th>\n",
       "      <th>Meterstand 1</th>\n",
       "      <th>Meterstand 2</th>\n",
       "      <th>Opname Datum</th>\n",
       "      <th>Soort opname</th>\n",
       "      <th>Laatst gewijzigd door</th>\n",
       "      <th>Laatst gewijzigd</th>\n",
       "      <th>Captarcode</th>\n",
       "      <th>Caparprijs</th>\n",
       "      <th>Weerdata</th>\n",
       "      <th>Opmerkingen</th>\n",
       "    </tr>\n",
       "  </thead>\n",
       "  <tbody>\n",
       "    <tr>\n",
       "      <th>0</th>\n",
       "      <td>871685900013591001</td>\n",
       "      <td>Primair</td>\n",
       "      <td>Actief</td>\n",
       "      <td>Elektra</td>\n",
       "      <td>None</td>\n",
       "      <td>None</td>\n",
       "      <td>None</td>\n",
       "      <td>Cordaan</td>\n",
       "      <td>VGZ</td>\n",
       "      <td>None</td>\n",
       "      <td>...</td>\n",
       "      <td>None</td>\n",
       "      <td>None</td>\n",
       "      <td>None</td>\n",
       "      <td>None</td>\n",
       "      <td>Import script #TR-8181-Cordaan</td>\n",
       "      <td>12-05-2023</td>\n",
       "      <td>t/m 1 x 6A geschakeld net</td>\n",
       "      <td>0,08</td>\n",
       "      <td>None</td>\n",
       "      <td>ter info: Pand heeft zonnepanelen; ivm terugle...</td>\n",
       "    </tr>\n",
       "    <tr>\n",
       "      <th>1</th>\n",
       "      <td>871685920004287492</td>\n",
       "      <td>Primair</td>\n",
       "      <td>Actief</td>\n",
       "      <td>Elektra</td>\n",
       "      <td>None</td>\n",
       "      <td>None</td>\n",
       "      <td>None</td>\n",
       "      <td>Cordaan</td>\n",
       "      <td>Geen</td>\n",
       "      <td>None</td>\n",
       "      <td>...</td>\n",
       "      <td>1192</td>\n",
       "      <td>368</td>\n",
       "      <td>01-05-2023</td>\n",
       "      <td>Eigen opname</td>\n",
       "      <td>Rene Stumpe</td>\n",
       "      <td>23-06-2023</td>\n",
       "      <td>&gt; 3 x 63A t/m 3 x 80A</td>\n",
       "      <td>8,00</td>\n",
       "      <td>None</td>\n",
       "      <td>meters moeten nog geplaatst worden, maar EAN-c...</td>\n",
       "    </tr>\n",
       "    <tr>\n",
       "      <th>2</th>\n",
       "      <td>871685920004287225</td>\n",
       "      <td>Primair</td>\n",
       "      <td>Actief</td>\n",
       "      <td>Elektra</td>\n",
       "      <td>None</td>\n",
       "      <td>None</td>\n",
       "      <td>None</td>\n",
       "      <td>Cordaan</td>\n",
       "      <td>Geen</td>\n",
       "      <td>None</td>\n",
       "      <td>...</td>\n",
       "      <td>230</td>\n",
       "      <td>354</td>\n",
       "      <td>01-05-2023</td>\n",
       "      <td>Eigen opname</td>\n",
       "      <td>Rene Stumpe</td>\n",
       "      <td>23-06-2023</td>\n",
       "      <td>t/m 3 x 25A + t/m 1x80A</td>\n",
       "      <td>0,78</td>\n",
       "      <td>None</td>\n",
       "      <td>meters moeten nog geplaatst worden, maar EAN-c...</td>\n",
       "    </tr>\n",
       "    <tr>\n",
       "      <th>3</th>\n",
       "      <td>871685920004287232</td>\n",
       "      <td>Primair</td>\n",
       "      <td>Actief</td>\n",
       "      <td>Elektra</td>\n",
       "      <td>None</td>\n",
       "      <td>None</td>\n",
       "      <td>None</td>\n",
       "      <td>Cordaan</td>\n",
       "      <td>Geen</td>\n",
       "      <td>None</td>\n",
       "      <td>...</td>\n",
       "      <td>3614</td>\n",
       "      <td>5253</td>\n",
       "      <td>01-05-2023</td>\n",
       "      <td>Eigen opname</td>\n",
       "      <td>Rene Stumpe</td>\n",
       "      <td>23-06-2023</td>\n",
       "      <td>t/m 3 x 25A + t/m 1x80A</td>\n",
       "      <td>0,78</td>\n",
       "      <td>None</td>\n",
       "      <td>meters moeten nog geplaatst worden, maar EAN-c...</td>\n",
       "    </tr>\n",
       "    <tr>\n",
       "      <th>4</th>\n",
       "      <td>871685920004287249</td>\n",
       "      <td>Primair</td>\n",
       "      <td>Actief</td>\n",
       "      <td>Elektra</td>\n",
       "      <td>None</td>\n",
       "      <td>None</td>\n",
       "      <td>None</td>\n",
       "      <td>Cordaan</td>\n",
       "      <td>Geen</td>\n",
       "      <td>None</td>\n",
       "      <td>...</td>\n",
       "      <td>2945</td>\n",
       "      <td>2867</td>\n",
       "      <td>01-05-2023</td>\n",
       "      <td>Eigen opname</td>\n",
       "      <td>Rene Stumpe</td>\n",
       "      <td>23-06-2023</td>\n",
       "      <td>t/m 3 x 25A + t/m 1x80A</td>\n",
       "      <td>0,78</td>\n",
       "      <td>None</td>\n",
       "      <td>meters moeten nog geplaatst worden, maar EAN-c...</td>\n",
       "    </tr>\n",
       "  </tbody>\n",
       "</table>\n",
       "<p>5 rows × 116 columns</p>\n",
       "</div>"
      ],
      "text/plain": [
       "             EAN code Allocatie punt  Status  Product Tenaamstelling  \\\n",
       "0  871685900013591001        Primair  Actief  Elektra           None   \n",
       "1  871685920004287492        Primair  Actief  Elektra           None   \n",
       "2  871685920004287225        Primair  Actief  Elektra           None   \n",
       "3  871685920004287232        Primair  Actief  Elektra           None   \n",
       "4  871685920004287249        Primair  Actief  Elektra           None   \n",
       "\n",
       "  tenaamstelling verkort Naam aansluiting    Klant Afdeling Verantwoordelijke  \\\n",
       "0                   None             None  Cordaan      VGZ              None   \n",
       "1                   None             None  Cordaan     Geen              None   \n",
       "2                   None             None  Cordaan     Geen              None   \n",
       "3                   None             None  Cordaan     Geen              None   \n",
       "4                   None             None  Cordaan     Geen              None   \n",
       "\n",
       "   ... Meterstand 1 Meterstand 2 Opname Datum  Soort opname  \\\n",
       "0  ...         None         None         None          None   \n",
       "1  ...         1192          368   01-05-2023  Eigen opname   \n",
       "2  ...          230          354   01-05-2023  Eigen opname   \n",
       "3  ...         3614         5253   01-05-2023  Eigen opname   \n",
       "4  ...         2945         2867   01-05-2023  Eigen opname   \n",
       "\n",
       "            Laatst gewijzigd door Laatst gewijzigd                 Captarcode  \\\n",
       "0  Import script #TR-8181-Cordaan       12-05-2023  t/m 1 x 6A geschakeld net   \n",
       "1                     Rene Stumpe       23-06-2023      > 3 x 63A t/m 3 x 80A   \n",
       "2                     Rene Stumpe       23-06-2023    t/m 3 x 25A + t/m 1x80A   \n",
       "3                     Rene Stumpe       23-06-2023    t/m 3 x 25A + t/m 1x80A   \n",
       "4                     Rene Stumpe       23-06-2023    t/m 3 x 25A + t/m 1x80A   \n",
       "\n",
       "  Caparprijs  Weerdata                                        Opmerkingen  \n",
       "0       0,08      None  ter info: Pand heeft zonnepanelen; ivm terugle...  \n",
       "1       8,00      None  meters moeten nog geplaatst worden, maar EAN-c...  \n",
       "2       0,78      None  meters moeten nog geplaatst worden, maar EAN-c...  \n",
       "3       0,78      None  meters moeten nog geplaatst worden, maar EAN-c...  \n",
       "4       0,78      None  meters moeten nog geplaatst worden, maar EAN-c...  \n",
       "\n",
       "[5 rows x 116 columns]"
      ]
     },
     "execution_count": 12,
     "metadata": {},
     "output_type": "execute_result"
    }
   ],
   "source": [
    "sqlresult.head()"
   ]
  }
 ],
 "metadata": {
  "kernelspec": {
   "display_name": ".venv",
   "language": "python",
   "name": "python3"
  },
  "language_info": {
   "codemirror_mode": {
    "name": "ipython",
    "version": 3
   },
   "file_extension": ".py",
   "mimetype": "text/x-python",
   "name": "python",
   "nbconvert_exporter": "python",
   "pygments_lexer": "ipython3",
   "version": "3.12.5"
  }
 },
 "nbformat": 4,
 "nbformat_minor": 2
}
