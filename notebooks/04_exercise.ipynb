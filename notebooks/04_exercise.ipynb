{
 "cells": [
  {
   "cell_type": "markdown",
   "metadata": {},
   "source": [
    "# Copy this notebook and name it 04_exercise_<your_name>. You do this to prevent overwriting any progress made when git pulling the latest changes. More about git can be found [here](..\\explanations\\git.md) or [here](https://github.com/Sjemmie/PipInstallParty/blob/main/explanations/git.md)"
   ]
  },
  {
   "cell_type": "markdown",
   "metadata": {},
   "source": [
    "### This notebook is meant as an exercise to practice. You are free to explore on your own of course!\n",
    "\n",
    "Use chatgpt, polars documentation, stack overflow and google to find answers to your questions. Each question can be answered in multiple ways. \n",
    "\n",
    "I have added a sample dataset to the Training_Staging_Lakehouse_Youri database. The table is called Public_Holidays \n",
    "1. Write some code to ingest the Public_Holidays table. You can use the credentials provided in the .env file\n",
    "2. Display the first 10 rows of data. It is good practice to always look at the data you are dealing with \n",
    "3. Get the summary statistic for your table. This will give you some neat information about the data you are dealing with\n",
    "4. Split the date column in a day, month and year column \n",
    "5. Count the number of holidays in any given year\n",
    "6. Count the number of holidays in any given country\n",
    "7. Count the occurences of each holiday, which one is most common? which one is the least common?\n",
    "8. When is the earliest holiday? and when the latest?    \n",
    "9. When is the largest gap between holidays? and how often does it occur?   \n",
    "10. When is the second largest gap?  \n",
    "\n",
    "Some questions are harder than others so don't worry too much about answering all of them. It is just a nice exercise to get a feeling with polars and python. "
   ]
  }
 ],
 "metadata": {
  "kernelspec": {
   "display_name": ".venv",
   "language": "python",
   "name": "python3"
  },
  "language_info": {
   "codemirror_mode": {
    "name": "ipython",
    "version": 3
   },
   "file_extension": ".py",
   "mimetype": "text/x-python",
   "name": "python",
   "nbconvert_exporter": "python",
   "pygments_lexer": "ipython3",
   "version": "3.12.5"
  }
 },
 "nbformat": 4,
 "nbformat_minor": 2
}
