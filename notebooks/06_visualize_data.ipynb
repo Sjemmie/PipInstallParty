{
 "cells": [
  {
   "cell_type": "markdown",
   "id": "24069d2e",
   "metadata": {},
   "source": [
    "# Visualizing Data\n",
    "\n",
    "Knowing how to summarize data using tools like Matplotlib is essential for understanding and communicating insights effectively. Visualizations help identify patterns, trends, and outliers in data, making complex datasets easier to interpret. They also enhance decision-making by presenting information in a clear and concise manner, enabling stakeholders to grasp key findings quickly."
   ]
  },
  {
   "cell_type": "markdown",
   "id": "f2ec9bd9",
   "metadata": {},
   "source": [
    "Before we can begin visualizing we first need to load in some data. We know how to load data using an API or from a SQL server. But I want to give you another example of reading data from local files. I have added a .csv which I got from the internet. We will first read this data and then use matplotlib to visualize it."
   ]
  },
  {
   "cell_type": "code",
   "execution_count": null,
   "id": "6a59bd3d",
   "metadata": {},
   "outputs": [],
   "source": [
    "# We always start with importing the necessary packages (you probably need to activate your .venv and install them first)\n",
    "import matplotlib.pyplot as plt\n",
    "import polars as pl"
   ]
  },
  {
   "cell_type": "code",
   "execution_count": null,
   "id": "43a89564",
   "metadata": {},
   "outputs": [],
   "source": [
    "# We will now use polars (but you can use pandas or another package) to read the data from the CSV file\n",
    "# note the r before the path, this is a raw string literal (windows sometimes has problems with backslashes in paths)\n",
    "df = pl.read_csv(r\"C:\\Users\\YouriDibbet\\PipInstallParty\\data\\Global_Cybersecurity_Threats_2015-2024.csv\") "
   ]
  },
  {
   "cell_type": "code",
   "execution_count": null,
   "id": "58a21f4a",
   "metadata": {},
   "outputs": [],
   "source": [
    "df.head()"
   ]
  },
  {
   "cell_type": "code",
   "execution_count": null,
   "id": "2c88a482",
   "metadata": {},
   "outputs": [],
   "source": [
    "df.describe()"
   ]
  },
  {
   "cell_type": "markdown",
   "id": "3e1a23e8",
   "metadata": {},
   "source": [
    "##### Matplotlib provides a ton of useful visualization tools. You can find more info [here](https://matplotlib.org/)"
   ]
  },
  {
   "cell_type": "code",
   "execution_count": null,
   "id": "82a02009",
   "metadata": {},
   "outputs": [],
   "source": [
    "# Group by Country and sum Financial Loss\n",
    "country_loss = (\n",
    "    df.group_by(\"Country\")\n",
    "    .agg(pl.col(\"Financial Loss (in Million $)\").sum().alias(\"Total Loss\"))\n",
    "    .sort(\"Total Loss\", descending=True)\n",
    "    .head(10)\n",
    ")\n",
    "\n",
    "# Plot\n",
    "plt.figure(figsize=(12, 6))\n",
    "plt.bar(country_loss[\"Country\"], country_loss[\"Total Loss\"])\n",
    "plt.title(\"Top 10 Countries by Total Financial Loss (2015 - 2024)\")\n",
    "plt.ylabel(\"Financial Loss (in Million $)\")\n",
    "plt.xlabel(\"Country\")\n",
    "plt.xticks(rotation=45)\n",
    "plt.tight_layout()\n",
    "plt.grid(axis='y')\n",
    "plt.show()"
   ]
  },
  {
   "cell_type": "code",
   "execution_count": null,
   "id": "e2cdaac6",
   "metadata": {},
   "outputs": [],
   "source": [
    "# Group by year and sum the number of affected users\n",
    "users_per_year = (\n",
    "    df.group_by(\"Year\")\n",
    "    .agg(pl.col(\"Number of Affected Users\").sum().alias(\"Total Affected Users\"))\n",
    "    .sort(\"Year\")\n",
    ")\n",
    "\n",
    "# Plot\n",
    "plt.figure(figsize=(12, 6))\n",
    "plt.plot(users_per_year[\"Year\"], users_per_year[\"Total Affected Users\"], marker=\"o\")\n",
    "plt.title(\"Total Affected Users per Year (2015 - 2024)\")\n",
    "plt.xlabel(\"Year\")\n",
    "plt.ylabel(\"Total Affected Users\")\n",
    "plt.grid(True)\n",
    "plt.tight_layout()\n",
    "plt.show()\n"
   ]
  },
  {
   "cell_type": "code",
   "execution_count": null,
   "id": "58427769",
   "metadata": {},
   "outputs": [],
   "source": [
    "# Define amount of datapoints (define seed to always get the same datapoints)\n",
    "sample = df.sample(n=10, seed=42)\n",
    "\n",
    "# We can also define variables for the x and y axis, this way we can reuse code easier\n",
    "x = sample[\"Number of Affected Users\"].to_list()\n",
    "y = sample[\"Financial Loss (in Million $)\"].to_list()\n",
    "colors = sample[\"Attack Type\"].to_list()\n",
    "\n",
    "\n",
    "unique_types = list(set(colors))\n",
    "color_map = {atype: i for i, atype in enumerate(unique_types)}\n",
    "color_values = [color_map[atype] for atype in colors]\n",
    "\n",
    "# Plot\n",
    "plt.figure(figsize=(12, 6))\n",
    "scatter = plt.scatter(x, y, c=color_values, cmap=\"tab10\", alpha=0.7)\n",
    "plt.title(\"Financial Loss vs. Number of Affected Users\")\n",
    "plt.xlabel(\"Number of Affected Users\")\n",
    "plt.ylabel(\"Financial Loss (in Million $)\")\n",
    "plt.grid(True)\n",
    "\n",
    "# Legend\n",
    "handles = [plt.Line2D([0], [0], marker='o', color='w',\n",
    "                      label=atype, markersize=8, markerfacecolor=plt.cm.tab10(i / len(unique_types)))\n",
    "           for atype, i in color_map.items()]\n",
    "plt.legend(handles=handles, title=\"Attack type\", bbox_to_anchor=(1.05, 1), loc='upper left')\n",
    "\n",
    "plt.tight_layout()\n",
    "plt.show()\n"
   ]
  },
  {
   "cell_type": "code",
   "execution_count": null,
   "id": "18b41385",
   "metadata": {},
   "outputs": [],
   "source": [
    "grouped = (\n",
    "    df.group_by(\"Attack Type\")\n",
    "    .agg(pl.col(\"Financial Loss (in Million $)\").alias(\"Losses\"))\n",
    ")\n",
    "\n",
    "# Define variables\n",
    "labels = grouped[\"Attack Type\"].to_list()\n",
    "loss_lists = grouped[\"Losses\"].to_list()\n",
    "\n",
    "# Plot\n",
    "plt.figure(figsize=(12, 6))\n",
    "plt.boxplot(loss_lists, tick_labels=labels, patch_artist=True)\n",
    "plt.title(\"Financial Loss per Attack Type (Boxplot)\")\n",
    "plt.ylabel(\"Financial Loss (in Million $)\")\n",
    "plt.xticks(rotation=45)\n",
    "plt.tight_layout()\n",
    "plt.grid(axis='y')\n",
    "plt.show()"
   ]
  },
  {
   "cell_type": "markdown",
   "id": "8643feba",
   "metadata": {},
   "source": [
    "These are just some basic visualisations. But I hope you get an idea of how this might be useful for analyzing large amounts of data. In this example we used a .csv file, but you are free to use SQL database, API data, Excel or any other form of readable data. "
   ]
  }
 ],
 "metadata": {
  "kernelspec": {
   "display_name": ".venv",
   "language": "python",
   "name": "python3"
  },
  "language_info": {
   "codemirror_mode": {
    "name": "ipython",
    "version": 3
   },
   "file_extension": ".py",
   "mimetype": "text/x-python",
   "name": "python",
   "nbconvert_exporter": "python",
   "pygments_lexer": "ipython3",
   "version": "3.12.5"
  }
 },
 "nbformat": 4,
 "nbformat_minor": 5
}
