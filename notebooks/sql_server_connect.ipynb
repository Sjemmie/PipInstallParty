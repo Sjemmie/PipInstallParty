{
 "cells": [
  {
   "cell_type": "markdown",
   "metadata": {},
   "source": [
    "# How to connect to a SQL server\n",
    "\n",
    "- Make sure that when you are running notebooks you select the right venv. This venv holds all your packages which you will need to code. \n",
    "- Download the ipykernel package. You can do this by running ```pip install ipykernel``` in your terminal. Make sure you are within your activated .venv!"
   ]
  },
  {
   "cell_type": "markdown",
   "metadata": {},
   "source": [
    "First we do some import statements. It is common practice to put these at the top of your script."
   ]
  },
  {
   "cell_type": "code",
   "execution_count": 1,
   "metadata": {},
   "outputs": [],
   "source": [
    "import pyodbc\n",
    "import pandas as pd\n",
    "from dotenv import load_dotenv # we need this to store environment variables (this is not needed when coding locally)\n",
    "import os"
   ]
  },
  {
   "cell_type": "code",
   "execution_count": 2,
   "metadata": {},
   "outputs": [
    {
     "data": {
      "text/plain": [
       "True"
      ]
     },
     "execution_count": 2,
     "metadata": {},
     "output_type": "execute_result"
    }
   ],
   "source": [
    "# Only needed when using the .env file\n",
    "load_dotenv()"
   ]
  },
  {
   "cell_type": "code",
   "execution_count": 3,
   "metadata": {},
   "outputs": [],
   "source": [
    "f_server = os.getenv(\"SERVER_Fabric\")\n",
    "f_database = os.getenv(\"DB_Fabric\")\n",
    "f_uid = os.getenv(\"UID_Fabric\")\n",
    "f_pwd = os.getenv(\"PWD_Fabric\")"
   ]
  },
  {
   "cell_type": "code",
   "execution_count": 4,
   "metadata": {},
   "outputs": [
    {
     "data": {
      "text/plain": [
       "('zezfh2i6qj2uli7c3vmpvjiteu-grhoq4vpsf4utolejfewhqiu3i.datawarehouse.fabric.microsoft.com',\n",
       " 'Training_Staging_Lakehouse_Youri',\n",
       " 'SVC_PowerBi@innax.nl',\n",
       " 'kz3baCPF3KmABc8DpXeyVacbE6QkV5Nh')"
      ]
     },
     "execution_count": 4,
     "metadata": {},
     "output_type": "execute_result"
    }
   ],
   "source": [
    "f_server, f_database, f_uid, f_pwd"
   ]
  },
  {
   "cell_type": "markdown",
   "metadata": {},
   "source": [
    "It could be possible that this does not work out of the gate for you. One issue might be that you don't have the correct drivers installed. To find these:\n",
    "1. Go to your search bar and look for ODBC Data Sources\n",
    "2. Go to 'drivers' or 'stuurprogramma'\n",
    "3. Scroll through the list and find 'ODBC Driver XX for SQL Server\n",
    "\n",
    "![ODBC Image](images\\ODBC.png)\n",
    "\n",
    "To download drivers visit: \n",
    "https://learn.microsoft.com/en-us/sql/connect/odbc/download-odbc-driver-for-sql-server?view=sql-server-ver16\n",
    "\n",
    "Keep in mind that some versions work with different versions of servers. So if 17 does not work try 18."
   ]
  },
  {
   "cell_type": "code",
   "execution_count": 5,
   "metadata": {},
   "outputs": [],
   "source": [
    "fabric_conn = pyodbc.connect(f'DRIVER={{ODBC Driver 17 for SQL Server}};SERVER={f_server};DATABASE={f_database};Authentication=ActiveDirectoryPassword;UID={f_uid};PWD={f_pwd};ConnectionTimeout=60')"
   ]
  },
  {
   "cell_type": "code",
   "execution_count": 6,
   "metadata": {},
   "outputs": [
    {
     "name": "stderr",
     "output_type": "stream",
     "text": [
      "C:\\Users\\YouriDibbet\\AppData\\Local\\Temp\\ipykernel_8724\\4202022485.py:1: UserWarning: pandas only supports SQLAlchemy connectable (engine/connection) or database string URI or sqlite3 DBAPI2 connection. Other DBAPI2 objects are not tested. Please consider using SQLAlchemy.\n",
      "  tableresult = pd.read_sql(\"SELECT * FROM Training_DF_Youri\", fabric_conn)\n"
     ]
    }
   ],
   "source": [
    "tableresult = pd.read_sql(\"SELECT * FROM Training_DF_Youri\", fabric_conn)"
   ]
  },
  {
   "cell_type": "markdown",
   "metadata": {},
   "source": [
    "You will get an error using when using pyodbc. This doesn't matter for now since all we do is read tables which works just fine. There are workarounds for this, so feel free to explore these on your own. But as you can see below we are able to run the tableresult!"
   ]
  },
  {
   "cell_type": "code",
   "execution_count": 7,
   "metadata": {},
   "outputs": [
    {
     "data": {
      "text/html": [
       "<div>\n",
       "<style scoped>\n",
       "    .dataframe tbody tr th:only-of-type {\n",
       "        vertical-align: middle;\n",
       "    }\n",
       "\n",
       "    .dataframe tbody tr th {\n",
       "        vertical-align: top;\n",
       "    }\n",
       "\n",
       "    .dataframe thead th {\n",
       "        text-align: right;\n",
       "    }\n",
       "</style>\n",
       "<table border=\"1\" class=\"dataframe\">\n",
       "  <thead>\n",
       "    <tr style=\"text-align: right;\">\n",
       "      <th></th>\n",
       "      <th>CustomerID</th>\n",
       "      <th>OrderID</th>\n",
       "      <th>OrderDate</th>\n",
       "      <th>ProductID</th>\n",
       "      <th>Quantity</th>\n",
       "      <th>Price</th>\n",
       "      <th>TotalAmount</th>\n",
       "      <th>Region</th>\n",
       "      <th>Category</th>\n",
       "      <th>PaymentMethod</th>\n",
       "      <th>Voornaam</th>\n",
       "    </tr>\n",
       "  </thead>\n",
       "  <tbody>\n",
       "    <tr>\n",
       "      <th>0</th>\n",
       "      <td>1000</td>\n",
       "      <td>40050</td>\n",
       "      <td>2023-05-13</td>\n",
       "      <td>320</td>\n",
       "      <td>9</td>\n",
       "      <td>28.68</td>\n",
       "      <td>258.12</td>\n",
       "      <td>Noord</td>\n",
       "      <td>Clothing</td>\n",
       "      <td>PayPal</td>\n",
       "      <td>Youri</td>\n",
       "    </tr>\n",
       "    <tr>\n",
       "      <th>1</th>\n",
       "      <td>1000</td>\n",
       "      <td>55012</td>\n",
       "      <td>2023-05-29</td>\n",
       "      <td>391</td>\n",
       "      <td>9</td>\n",
       "      <td>99.43</td>\n",
       "      <td>894.87</td>\n",
       "      <td>Zuid</td>\n",
       "      <td>Toys</td>\n",
       "      <td>PayPal</td>\n",
       "      <td>Youri</td>\n",
       "    </tr>\n",
       "    <tr>\n",
       "      <th>2</th>\n",
       "      <td>1000</td>\n",
       "      <td>55050</td>\n",
       "      <td>2023-05-01</td>\n",
       "      <td>392</td>\n",
       "      <td>7</td>\n",
       "      <td>81.31</td>\n",
       "      <td>569.17</td>\n",
       "      <td>Zuid</td>\n",
       "      <td>Toys</td>\n",
       "      <td>PayPal</td>\n",
       "      <td>Youri</td>\n",
       "    </tr>\n",
       "    <tr>\n",
       "      <th>3</th>\n",
       "      <td>1000</td>\n",
       "      <td>15083</td>\n",
       "      <td>2023-05-14</td>\n",
       "      <td>336</td>\n",
       "      <td>4</td>\n",
       "      <td>61.74</td>\n",
       "      <td>246.96</td>\n",
       "      <td>West</td>\n",
       "      <td>Books</td>\n",
       "      <td>PayPal</td>\n",
       "      <td>Youri</td>\n",
       "    </tr>\n",
       "    <tr>\n",
       "      <th>4</th>\n",
       "      <td>1000</td>\n",
       "      <td>50088</td>\n",
       "      <td>2023-05-14</td>\n",
       "      <td>351</td>\n",
       "      <td>6</td>\n",
       "      <td>65.15</td>\n",
       "      <td>390.90</td>\n",
       "      <td>Noord</td>\n",
       "      <td>Home</td>\n",
       "      <td>PayPal</td>\n",
       "      <td>Youri</td>\n",
       "    </tr>\n",
       "  </tbody>\n",
       "</table>\n",
       "</div>"
      ],
      "text/plain": [
       "   CustomerID  OrderID   OrderDate  ProductID  Quantity  Price  TotalAmount  \\\n",
       "0        1000    40050  2023-05-13        320         9  28.68       258.12   \n",
       "1        1000    55012  2023-05-29        391         9  99.43       894.87   \n",
       "2        1000    55050  2023-05-01        392         7  81.31       569.17   \n",
       "3        1000    15083  2023-05-14        336         4  61.74       246.96   \n",
       "4        1000    50088  2023-05-14        351         6  65.15       390.90   \n",
       "\n",
       "  Region  Category PaymentMethod Voornaam  \n",
       "0  Noord  Clothing        PayPal    Youri  \n",
       "1   Zuid      Toys        PayPal    Youri  \n",
       "2   Zuid      Toys        PayPal    Youri  \n",
       "3   West     Books        PayPal    Youri  \n",
       "4  Noord      Home        PayPal    Youri  "
      ]
     },
     "execution_count": 7,
     "metadata": {},
     "output_type": "execute_result"
    }
   ],
   "source": [
    "tableresult.head()"
   ]
  },
  {
   "cell_type": "markdown",
   "metadata": {},
   "source": [
    "We read from a fabric database. This is useful for some, but since we have on premise sql databases aswell I would like to show you have to connect to these as well."
   ]
  },
  {
   "cell_type": "code",
   "execution_count": 8,
   "metadata": {},
   "outputs": [],
   "source": [
    "server = os.getenv(\"SERVER_SQL\")\n",
    "database = os.getenv(\"DB_SQL\")\n",
    "uid = os.getenv(\"UID_SQL\")\n",
    "pwd = os.getenv(\"PWD_SQL\")"
   ]
  },
  {
   "cell_type": "code",
   "execution_count": 9,
   "metadata": {},
   "outputs": [
    {
     "data": {
      "text/plain": [
       "('EDS2', 'INN-VEE-SQL12.innax.nl', 'YouriDibbet', '!nnax20242')"
      ]
     },
     "execution_count": 9,
     "metadata": {},
     "output_type": "execute_result"
    }
   ],
   "source": [
    "server, database, uid, pwd"
   ]
  },
  {
   "cell_type": "code",
   "execution_count": null,
   "metadata": {},
   "outputs": [
    {
     "ename": "OperationalError",
     "evalue": "('08001', '[08001] [Microsoft][ODBC Driver 17 for SQL Server]Named Pipes Provider: Could not open a connection to SQL Server [53].  (53) (SQLDriverConnect); [08001] [Microsoft][ODBC Driver 17 for SQL Server]Login timeout expired (0); [08001] [Microsoft][ODBC Driver 17 for SQL Server]Invalid connection string attribute (0); [08001] [Microsoft][ODBC Driver 17 for SQL Server]A network-related or instance-specific error has occurred while establishing a connection to SQL Server. Server is not found or not accessible. Check if instance name is correct and if SQL Server is configured to allow remote connections. For more information see SQL Server Books Online. (53)')",
     "output_type": "error",
     "traceback": [
      "\u001b[1;31m---------------------------------------------------------------------------\u001b[0m",
      "\u001b[1;31mOperationalError\u001b[0m                          Traceback (most recent call last)",
      "Cell \u001b[1;32mIn[10], line 1\u001b[0m\n\u001b[1;32m----> 1\u001b[0m sql_conn \u001b[38;5;241m=\u001b[39m \u001b[43mpyodbc\u001b[49m\u001b[38;5;241;43m.\u001b[39;49m\u001b[43mconnect\u001b[49m\u001b[43m(\u001b[49m\u001b[38;5;124;43mf\u001b[39;49m\u001b[38;5;124;43m'\u001b[39;49m\u001b[38;5;124;43mTusted_Connection=yes;DRIVER=\u001b[39;49m\u001b[38;5;130;43;01m{{\u001b[39;49;00m\u001b[38;5;124;43mODBC Driver 17 for SQL Server\u001b[39;49m\u001b[38;5;130;43;01m}}\u001b[39;49;00m\u001b[38;5;124;43m;SERVER=\u001b[39;49m\u001b[38;5;132;43;01m{\u001b[39;49;00m\u001b[43mserver\u001b[49m\u001b[38;5;132;43;01m}\u001b[39;49;00m\u001b[38;5;124;43m;DATABASE=\u001b[39;49m\u001b[38;5;132;43;01m{\u001b[39;49;00m\u001b[43mdatabase\u001b[49m\u001b[38;5;132;43;01m}\u001b[39;49;00m\u001b[38;5;124;43m;UID=\u001b[39;49m\u001b[38;5;132;43;01m{\u001b[39;49;00m\u001b[43muid\u001b[49m\u001b[38;5;132;43;01m}\u001b[39;49;00m\u001b[38;5;124;43m;PWD=\u001b[39;49m\u001b[38;5;132;43;01m{\u001b[39;49;00m\u001b[43mpwd\u001b[49m\u001b[38;5;132;43;01m}\u001b[39;49;00m\u001b[38;5;124;43m;ConnectionTimeout=60\u001b[39;49m\u001b[38;5;124;43m'\u001b[39;49m\u001b[43m)\u001b[49m\n",
      "\u001b[1;31mOperationalError\u001b[0m: ('08001', '[08001] [Microsoft][ODBC Driver 17 for SQL Server]Named Pipes Provider: Could not open a connection to SQL Server [53].  (53) (SQLDriverConnect); [08001] [Microsoft][ODBC Driver 17 for SQL Server]Login timeout expired (0); [08001] [Microsoft][ODBC Driver 17 for SQL Server]Invalid connection string attribute (0); [08001] [Microsoft][ODBC Driver 17 for SQL Server]A network-related or instance-specific error has occurred while establishing a connection to SQL Server. Server is not found or not accessible. Check if instance name is correct and if SQL Server is configured to allow remote connections. For more information see SQL Server Books Online. (53)')"
     ]
    }
   ],
   "source": [
    "sql_conn = pyodbc.connect(f'DRIVER={{ODBC Driver 17 for SQL Server}};SERVER={server};DATABASE={database};UID={uid};PWD={pwd};ConnectionTimeout=60')"
   ]
  }
 ],
 "metadata": {
  "kernelspec": {
   "display_name": ".venv",
   "language": "python",
   "name": "python3"
  },
  "language_info": {
   "codemirror_mode": {
    "name": "ipython",
    "version": 3
   },
   "file_extension": ".py",
   "mimetype": "text/x-python",
   "name": "python",
   "nbconvert_exporter": "python",
   "pygments_lexer": "ipython3",
   "version": "3.12.5"
  }
 },
 "nbformat": 4,
 "nbformat_minor": 2
}
