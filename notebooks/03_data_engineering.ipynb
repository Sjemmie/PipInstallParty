{
 "cells": [
  {
   "cell_type": "markdown",
   "metadata": {},
   "source": [
    "# Basic Data wrangling\n",
    "In this notebook I decided to use polars instead of pythons. You have to trust me that polars is faster when it comes to data wrangling compared to pandas. Especially on larger datasets!"
   ]
  },
  {
   "cell_type": "code",
   "execution_count": 8,
   "metadata": {},
   "outputs": [],
   "source": [
    "import pyodbc\n",
    "import polars as pl\n",
    "from dotenv import load_dotenv # we need this to store environment variables (this is not needed when coding locally)\n",
    "import os"
   ]
  },
  {
   "cell_type": "code",
   "execution_count": 9,
   "metadata": {},
   "outputs": [
    {
     "data": {
      "text/plain": [
       "True"
      ]
     },
     "execution_count": 9,
     "metadata": {},
     "output_type": "execute_result"
    }
   ],
   "source": [
    "# Only needed when using the .env file\n",
    "load_dotenv()"
   ]
  },
  {
   "cell_type": "code",
   "execution_count": 10,
   "metadata": {},
   "outputs": [],
   "source": [
    "f_server = os.getenv(\"SERVER_Fabric\")\n",
    "f_database = os.getenv(\"DB_Fabric\")\n",
    "f_uid = os.getenv(\"UID_Fabric\")\n",
    "f_pwd = os.getenv(\"PWD_Fabric\")"
   ]
  },
  {
   "cell_type": "code",
   "execution_count": 11,
   "metadata": {},
   "outputs": [],
   "source": [
    "fabric_conn = pyodbc.connect(f'DRIVER={{ODBC Driver 17 for SQL Server}};SERVER={f_server};DATABASE={f_database};Authentication=ActiveDirectoryPassword;UID={f_uid};PWD={f_pwd};ConnectionTimeout=60')"
   ]
  },
  {
   "cell_type": "code",
   "execution_count": 13,
   "metadata": {},
   "outputs": [],
   "source": [
    "tableresult = pl.read_database(\"SELECT * FROM Training_DF_Youri\", fabric_conn)"
   ]
  },
  {
   "cell_type": "markdown",
   "metadata": {},
   "source": [
    "Each 'package' has it's own syntax. You can check the documentation to see how it works. For polars its: https://docs.pola.rs/.\n",
    "\n",
    "Let's first start with some basic calculations such as adding, removing and filtering."
   ]
  },
  {
   "cell_type": "code",
   "execution_count": 68,
   "metadata": {},
   "outputs": [
    {
     "data": {
      "text/html": [
       "<div><style>\n",
       ".dataframe > thead > tr,\n",
       ".dataframe > tbody > tr {\n",
       "  text-align: right;\n",
       "  white-space: pre-wrap;\n",
       "}\n",
       "</style>\n",
       "<small>shape: (5, 11)</small><table border=\"1\" class=\"dataframe\"><thead><tr><th>CustomerID</th><th>OrderID</th><th>OrderDate</th><th>ProductID</th><th>Quantity</th><th>Price</th><th>TotalAmount</th><th>Region</th><th>Category</th><th>PaymentMethod</th><th>Voornaam</th></tr><tr><td>i64</td><td>i64</td><td>date</td><td>i64</td><td>i64</td><td>f64</td><td>f64</td><td>str</td><td>str</td><td>str</td><td>str</td></tr></thead><tbody><tr><td>1000</td><td>40050</td><td>2023-05-13</td><td>320</td><td>9</td><td>28.68</td><td>258.12</td><td>&quot;Noord&quot;</td><td>&quot;Clothing&quot;</td><td>&quot;PayPal&quot;</td><td>&quot;Youri&quot;</td></tr><tr><td>1000</td><td>55012</td><td>2023-05-29</td><td>391</td><td>9</td><td>99.43</td><td>894.87</td><td>&quot;Zuid&quot;</td><td>&quot;Toys&quot;</td><td>&quot;PayPal&quot;</td><td>&quot;Youri&quot;</td></tr><tr><td>1000</td><td>55050</td><td>2023-05-01</td><td>392</td><td>7</td><td>81.31</td><td>569.17</td><td>&quot;Zuid&quot;</td><td>&quot;Toys&quot;</td><td>&quot;PayPal&quot;</td><td>&quot;Youri&quot;</td></tr><tr><td>1000</td><td>15083</td><td>2023-05-14</td><td>336</td><td>4</td><td>61.74</td><td>246.96</td><td>&quot;West&quot;</td><td>&quot;Books&quot;</td><td>&quot;PayPal&quot;</td><td>&quot;Youri&quot;</td></tr><tr><td>1000</td><td>50088</td><td>2023-05-14</td><td>351</td><td>6</td><td>65.15</td><td>390.9</td><td>&quot;Noord&quot;</td><td>&quot;Home&quot;</td><td>&quot;PayPal&quot;</td><td>&quot;Youri&quot;</td></tr></tbody></table></div>"
      ],
      "text/plain": [
       "shape: (5, 11)\n",
       "┌────────────┬─────────┬────────────┬───────────┬───┬────────┬──────────┬───────────────┬──────────┐\n",
       "│ CustomerID ┆ OrderID ┆ OrderDate  ┆ ProductID ┆ … ┆ Region ┆ Category ┆ PaymentMethod ┆ Voornaam │\n",
       "│ ---        ┆ ---     ┆ ---        ┆ ---       ┆   ┆ ---    ┆ ---      ┆ ---           ┆ ---      │\n",
       "│ i64        ┆ i64     ┆ date       ┆ i64       ┆   ┆ str    ┆ str      ┆ str           ┆ str      │\n",
       "╞════════════╪═════════╪════════════╪═══════════╪═══╪════════╪══════════╪═══════════════╪══════════╡\n",
       "│ 1000       ┆ 40050   ┆ 2023-05-13 ┆ 320       ┆ … ┆ Noord  ┆ Clothing ┆ PayPal        ┆ Youri    │\n",
       "│ 1000       ┆ 55012   ┆ 2023-05-29 ┆ 391       ┆ … ┆ Zuid   ┆ Toys     ┆ PayPal        ┆ Youri    │\n",
       "│ 1000       ┆ 55050   ┆ 2023-05-01 ┆ 392       ┆ … ┆ Zuid   ┆ Toys     ┆ PayPal        ┆ Youri    │\n",
       "│ 1000       ┆ 15083   ┆ 2023-05-14 ┆ 336       ┆ … ┆ West   ┆ Books    ┆ PayPal        ┆ Youri    │\n",
       "│ 1000       ┆ 50088   ┆ 2023-05-14 ┆ 351       ┆ … ┆ Noord  ┆ Home     ┆ PayPal        ┆ Youri    │\n",
       "└────────────┴─────────┴────────────┴───────────┴───┴────────┴──────────┴───────────────┴──────────┘"
      ]
     },
     "execution_count": 68,
     "metadata": {},
     "output_type": "execute_result"
    }
   ],
   "source": [
    "tableresult.head()"
   ]
  },
  {
   "cell_type": "code",
   "execution_count": null,
   "metadata": {},
   "outputs": [],
   "source": [
    "added_column = tableresult.with_columns(\n",
    "    (pl.col(\"Price\") * 0.5).alias(\"BlackFridayPrice\"),  # This adds a new column with the price dived in half\n",
    "    Country=pl.lit(\"Netherlands\"))                      # This also adds a new column, using different syntax, as Country"
   ]
  },
  {
   "cell_type": "code",
   "execution_count": 22,
   "metadata": {},
   "outputs": [
    {
     "data": {
      "text/html": [
       "<div><style>\n",
       ".dataframe > thead > tr,\n",
       ".dataframe > tbody > tr {\n",
       "  text-align: right;\n",
       "  white-space: pre-wrap;\n",
       "}\n",
       "</style>\n",
       "<small>shape: (5, 13)</small><table border=\"1\" class=\"dataframe\"><thead><tr><th>CustomerID</th><th>OrderID</th><th>OrderDate</th><th>ProductID</th><th>Quantity</th><th>Price</th><th>TotalAmount</th><th>Region</th><th>Category</th><th>PaymentMethod</th><th>Voornaam</th><th>BlackFridayPrice</th><th>Country</th></tr><tr><td>i64</td><td>i64</td><td>date</td><td>i64</td><td>i64</td><td>f64</td><td>f64</td><td>str</td><td>str</td><td>str</td><td>str</td><td>f64</td><td>str</td></tr></thead><tbody><tr><td>1000</td><td>40050</td><td>2023-05-13</td><td>320</td><td>9</td><td>28.68</td><td>258.12</td><td>&quot;Noord&quot;</td><td>&quot;Clothing&quot;</td><td>&quot;PayPal&quot;</td><td>&quot;Youri&quot;</td><td>14.34</td><td>&quot;Netherlands&quot;</td></tr><tr><td>1000</td><td>55012</td><td>2023-05-29</td><td>391</td><td>9</td><td>99.43</td><td>894.87</td><td>&quot;Zuid&quot;</td><td>&quot;Toys&quot;</td><td>&quot;PayPal&quot;</td><td>&quot;Youri&quot;</td><td>49.715</td><td>&quot;Netherlands&quot;</td></tr><tr><td>1000</td><td>55050</td><td>2023-05-01</td><td>392</td><td>7</td><td>81.31</td><td>569.17</td><td>&quot;Zuid&quot;</td><td>&quot;Toys&quot;</td><td>&quot;PayPal&quot;</td><td>&quot;Youri&quot;</td><td>40.655</td><td>&quot;Netherlands&quot;</td></tr><tr><td>1000</td><td>15083</td><td>2023-05-14</td><td>336</td><td>4</td><td>61.74</td><td>246.96</td><td>&quot;West&quot;</td><td>&quot;Books&quot;</td><td>&quot;PayPal&quot;</td><td>&quot;Youri&quot;</td><td>30.87</td><td>&quot;Netherlands&quot;</td></tr><tr><td>1000</td><td>50088</td><td>2023-05-14</td><td>351</td><td>6</td><td>65.15</td><td>390.9</td><td>&quot;Noord&quot;</td><td>&quot;Home&quot;</td><td>&quot;PayPal&quot;</td><td>&quot;Youri&quot;</td><td>32.575</td><td>&quot;Netherlands&quot;</td></tr></tbody></table></div>"
      ],
      "text/plain": [
       "shape: (5, 13)\n",
       "┌────────────┬─────────┬────────────┬───────────┬───┬───────────┬──────────┬───────────┬───────────┐\n",
       "│ CustomerID ┆ OrderID ┆ OrderDate  ┆ ProductID ┆ … ┆ PaymentMe ┆ Voornaam ┆ BlackFrid ┆ Country   │\n",
       "│ ---        ┆ ---     ┆ ---        ┆ ---       ┆   ┆ thod      ┆ ---      ┆ ayPrice   ┆ ---       │\n",
       "│ i64        ┆ i64     ┆ date       ┆ i64       ┆   ┆ ---       ┆ str      ┆ ---       ┆ str       │\n",
       "│            ┆         ┆            ┆           ┆   ┆ str       ┆          ┆ f64       ┆           │\n",
       "╞════════════╪═════════╪════════════╪═══════════╪═══╪═══════════╪══════════╪═══════════╪═══════════╡\n",
       "│ 1000       ┆ 40050   ┆ 2023-05-13 ┆ 320       ┆ … ┆ PayPal    ┆ Youri    ┆ 14.34     ┆ Netherlan │\n",
       "│            ┆         ┆            ┆           ┆   ┆           ┆          ┆           ┆ ds        │\n",
       "│ 1000       ┆ 55012   ┆ 2023-05-29 ┆ 391       ┆ … ┆ PayPal    ┆ Youri    ┆ 49.715    ┆ Netherlan │\n",
       "│            ┆         ┆            ┆           ┆   ┆           ┆          ┆           ┆ ds        │\n",
       "│ 1000       ┆ 55050   ┆ 2023-05-01 ┆ 392       ┆ … ┆ PayPal    ┆ Youri    ┆ 40.655    ┆ Netherlan │\n",
       "│            ┆         ┆            ┆           ┆   ┆           ┆          ┆           ┆ ds        │\n",
       "│ 1000       ┆ 15083   ┆ 2023-05-14 ┆ 336       ┆ … ┆ PayPal    ┆ Youri    ┆ 30.87     ┆ Netherlan │\n",
       "│            ┆         ┆            ┆           ┆   ┆           ┆          ┆           ┆ ds        │\n",
       "│ 1000       ┆ 50088   ┆ 2023-05-14 ┆ 351       ┆ … ┆ PayPal    ┆ Youri    ┆ 32.575    ┆ Netherlan │\n",
       "│            ┆         ┆            ┆           ┆   ┆           ┆          ┆           ┆ ds        │\n",
       "└────────────┴─────────┴────────────┴───────────┴───┴───────────┴──────────┴───────────┴───────────┘"
      ]
     },
     "execution_count": 22,
     "metadata": {},
     "output_type": "execute_result"
    }
   ],
   "source": [
    "added_column.head()"
   ]
  },
  {
   "cell_type": "markdown",
   "metadata": {},
   "source": [
    "As you can see we have 2 new columns. One created by multiplying an existing column and one by adding a literal value. It's good to realise that our original dataframe `tableresults` is still the same. This is because our new dataframe is called `added_column` which essentially is a copy of `table_results`"
   ]
  },
  {
   "cell_type": "code",
   "execution_count": 24,
   "metadata": {},
   "outputs": [
    {
     "data": {
      "text/html": [
       "<div><style>\n",
       ".dataframe > thead > tr,\n",
       ".dataframe > tbody > tr {\n",
       "  text-align: right;\n",
       "  white-space: pre-wrap;\n",
       "}\n",
       "</style>\n",
       "<small>shape: (5, 11)</small><table border=\"1\" class=\"dataframe\"><thead><tr><th>CustomerID</th><th>OrderID</th><th>OrderDate</th><th>ProductID</th><th>Quantity</th><th>Price</th><th>TotalAmount</th><th>Region</th><th>Category</th><th>PaymentMethod</th><th>Voornaam</th></tr><tr><td>i64</td><td>i64</td><td>date</td><td>i64</td><td>i64</td><td>f64</td><td>f64</td><td>str</td><td>str</td><td>str</td><td>str</td></tr></thead><tbody><tr><td>1000</td><td>40050</td><td>2023-05-13</td><td>320</td><td>9</td><td>28.68</td><td>258.12</td><td>&quot;Noord&quot;</td><td>&quot;Clothing&quot;</td><td>&quot;PayPal&quot;</td><td>&quot;Youri&quot;</td></tr><tr><td>1000</td><td>55012</td><td>2023-05-29</td><td>391</td><td>9</td><td>99.43</td><td>894.87</td><td>&quot;Zuid&quot;</td><td>&quot;Toys&quot;</td><td>&quot;PayPal&quot;</td><td>&quot;Youri&quot;</td></tr><tr><td>1000</td><td>55050</td><td>2023-05-01</td><td>392</td><td>7</td><td>81.31</td><td>569.17</td><td>&quot;Zuid&quot;</td><td>&quot;Toys&quot;</td><td>&quot;PayPal&quot;</td><td>&quot;Youri&quot;</td></tr><tr><td>1000</td><td>15083</td><td>2023-05-14</td><td>336</td><td>4</td><td>61.74</td><td>246.96</td><td>&quot;West&quot;</td><td>&quot;Books&quot;</td><td>&quot;PayPal&quot;</td><td>&quot;Youri&quot;</td></tr><tr><td>1000</td><td>50088</td><td>2023-05-14</td><td>351</td><td>6</td><td>65.15</td><td>390.9</td><td>&quot;Noord&quot;</td><td>&quot;Home&quot;</td><td>&quot;PayPal&quot;</td><td>&quot;Youri&quot;</td></tr></tbody></table></div>"
      ],
      "text/plain": [
       "shape: (5, 11)\n",
       "┌────────────┬─────────┬────────────┬───────────┬───┬────────┬──────────┬───────────────┬──────────┐\n",
       "│ CustomerID ┆ OrderID ┆ OrderDate  ┆ ProductID ┆ … ┆ Region ┆ Category ┆ PaymentMethod ┆ Voornaam │\n",
       "│ ---        ┆ ---     ┆ ---        ┆ ---       ┆   ┆ ---    ┆ ---      ┆ ---           ┆ ---      │\n",
       "│ i64        ┆ i64     ┆ date       ┆ i64       ┆   ┆ str    ┆ str      ┆ str           ┆ str      │\n",
       "╞════════════╪═════════╪════════════╪═══════════╪═══╪════════╪══════════╪═══════════════╪══════════╡\n",
       "│ 1000       ┆ 40050   ┆ 2023-05-13 ┆ 320       ┆ … ┆ Noord  ┆ Clothing ┆ PayPal        ┆ Youri    │\n",
       "│ 1000       ┆ 55012   ┆ 2023-05-29 ┆ 391       ┆ … ┆ Zuid   ┆ Toys     ┆ PayPal        ┆ Youri    │\n",
       "│ 1000       ┆ 55050   ┆ 2023-05-01 ┆ 392       ┆ … ┆ Zuid   ┆ Toys     ┆ PayPal        ┆ Youri    │\n",
       "│ 1000       ┆ 15083   ┆ 2023-05-14 ┆ 336       ┆ … ┆ West   ┆ Books    ┆ PayPal        ┆ Youri    │\n",
       "│ 1000       ┆ 50088   ┆ 2023-05-14 ┆ 351       ┆ … ┆ Noord  ┆ Home     ┆ PayPal        ┆ Youri    │\n",
       "└────────────┴─────────┴────────────┴───────────┴───┴────────┴──────────┴───────────────┴──────────┘"
      ]
     },
     "execution_count": 24,
     "metadata": {},
     "output_type": "execute_result"
    }
   ],
   "source": [
    "tableresult.head()"
   ]
  },
  {
   "cell_type": "markdown",
   "metadata": {},
   "source": [
    "We can also create functions to perform basic operations for us. When you're just starting out, it might feel challenging to identify when to use a function. A good starting point is to look for repetitive code in your program. Whenever you find yourself writing the same or very similar code multiple times, consider putting it into a function. This way, you can reuse the function without rewriting the code, making your programs more efficient and easier to maintain."
   ]
  },
  {
   "cell_type": "code",
   "execution_count": null,
   "metadata": {},
   "outputs": [],
   "source": [
    "# Without a function: repetitive code\n",
    "books_sales = tableresult.filter(pl.col(\"Category\") == \"Toys\").select(pl.col(\"TotalAmount\").sum()).to_numpy()[0][0]\n",
    "clothing_sales = tableresult.filter(pl.col(\"Category\") == \"Clothing\").select(pl.col(\"TotalAmount\").sum()).to_numpy()[0][0]"
   ]
  },
  {
   "cell_type": "code",
   "execution_count": 57,
   "metadata": {},
   "outputs": [
    {
     "name": "stdout",
     "output_type": "stream",
     "text": [
      "Total book sales are: 7861.799999999999\n",
      "Total clothing sales are: 4031.499999999999\n"
     ]
    }
   ],
   "source": [
    "print(f\"Total book sales are: {books_sales}\")\n",
    "print(f\"Total clothing sales are: {clothing_sales}\")"
   ]
  },
  {
   "cell_type": "code",
   "execution_count": 62,
   "metadata": {},
   "outputs": [],
   "source": [
    "# With a function: reusable and concise\n",
    "def calculate_sales(dataframe, category):\n",
    "    \"\"\"\n",
    "    Filters the DataFrame by the given category and calculates the total sales.\n",
    "    \"\"\"\n",
    "    return (\n",
    "        dataframe\n",
    "        .filter(pl.col(\"Category\") == category)\n",
    "        .select(pl.col(\"TotalAmount\").sum())\n",
    "        .to_numpy()[0][0]  # Extract the scalar result\n",
    "    )"
   ]
  },
  {
   "cell_type": "code",
   "execution_count": 65,
   "metadata": {},
   "outputs": [],
   "source": [
    "# Using the function\n",
    "books_sales_function = calculate_sales(tableresult, \"Toys\")\n",
    "clothing_sales_function = calculate_sales(tableresult, \"Clothing\")"
   ]
  },
  {
   "cell_type": "code",
   "execution_count": 66,
   "metadata": {},
   "outputs": [
    {
     "name": "stdout",
     "output_type": "stream",
     "text": [
      "Total book sales are: 7861.799999999999\n",
      "Total clothing sales are: 4031.499999999999\n"
     ]
    }
   ],
   "source": [
    "print(f\"Total book sales are: {books_sales_function}\")\n",
    "print(f\"Total clothing sales are: {clothing_sales_function}\")"
   ]
  }
 ],
 "metadata": {
  "kernelspec": {
   "display_name": ".venv",
   "language": "python",
   "name": "python3"
  },
  "language_info": {
   "codemirror_mode": {
    "name": "ipython",
    "version": 3
   },
   "file_extension": ".py",
   "mimetype": "text/x-python",
   "name": "python",
   "nbconvert_exporter": "python",
   "pygments_lexer": "ipython3",
   "version": "3.12.5"
  }
 },
 "nbformat": 4,
 "nbformat_minor": 2
}
