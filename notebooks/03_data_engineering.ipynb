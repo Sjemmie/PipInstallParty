{
 "cells": [
  {
   "cell_type": "markdown",
   "metadata": {},
   "source": [
    "# Basic Data wrangling\n",
    "In this notebook I decided to use polars instead of pythons. You have to trust me that polars is faster when it comes to data wrangling compared to pandas. Especially on larger datasets!"
   ]
  },
  {
   "cell_type": "code",
   "execution_count": null,
   "metadata": {},
   "outputs": [],
   "source": [
    "import pyodbc\n",
    "import polars as pl\n",
    "from dotenv import load_dotenv # we need this to store environment variables (this is not needed when coding locally)\n",
    "import os"
   ]
  },
  {
   "cell_type": "code",
   "execution_count": null,
   "metadata": {},
   "outputs": [],
   "source": [
    "# Only needed when using the .env file\n",
    "load_dotenv()"
   ]
  },
  {
   "cell_type": "code",
   "execution_count": null,
   "metadata": {},
   "outputs": [],
   "source": [
    "f_server = os.getenv(\"SERVER_Fabric\")\n",
    "f_database = os.getenv(\"DB_Fabric\")\n",
    "f_uid = os.getenv(\"UID_Fabric\")\n",
    "f_pwd = os.getenv(\"PWD_Fabric\")"
   ]
  },
  {
   "cell_type": "code",
   "execution_count": null,
   "metadata": {},
   "outputs": [],
   "source": [
    "fabric_conn = pyodbc.connect(f'DRIVER={{ODBC Driver 17 for SQL Server}};SERVER={f_server};DATABASE={f_database};Authentication=ActiveDirectoryPassword;UID={f_uid};PWD={f_pwd};ConnectionTimeout=60')"
   ]
  },
  {
   "cell_type": "code",
   "execution_count": null,
   "metadata": {},
   "outputs": [],
   "source": [
    "tableresult = pl.read_database(\"SELECT * FROM Training_DF_Youri\", fabric_conn)"
   ]
  },
  {
   "cell_type": "markdown",
   "metadata": {},
   "source": [
    "Each 'package' has it's own syntax. You can check the documentation to see how it works. For polars its: https://docs.pola.rs/.\n",
    "\n",
    "Let's first start with some basic calculations such as adding, removing and filtering."
   ]
  },
  {
   "cell_type": "code",
   "execution_count": null,
   "metadata": {},
   "outputs": [],
   "source": [
    "tableresult.head()"
   ]
  },
  {
   "cell_type": "code",
   "execution_count": null,
   "metadata": {},
   "outputs": [],
   "source": [
    "added_column = tableresult.with_columns(\n",
    "    (pl.col(\"Price\") * 0.5).alias(\"BlackFridayPrice\"),  # This adds a new column with the price dived in half\n",
    "    Country=pl.lit(\"Netherlands\"))                      # This also adds a new column, using different syntax, as Country"
   ]
  },
  {
   "cell_type": "code",
   "execution_count": null,
   "metadata": {},
   "outputs": [],
   "source": [
    "added_column.head()"
   ]
  },
  {
   "cell_type": "markdown",
   "metadata": {},
   "source": [
    "As you can see we have 2 new columns. One created by multiplying an existing column and one by adding a literal value. It's good to realise that our original dataframe `tableresults` is still the same. This is because our new dataframe is called `added_column` which essentially is a copy of `table_results`"
   ]
  },
  {
   "cell_type": "code",
   "execution_count": null,
   "metadata": {},
   "outputs": [],
   "source": [
    "tableresult.head()"
   ]
  },
  {
   "cell_type": "markdown",
   "metadata": {},
   "source": [
    "We can also create functions to perform basic operations for us. When you're just starting out, it might feel challenging to identify when to use a function. A good starting point is to look for repetitive code in your program. Whenever you find yourself writing the same or very similar code multiple times, consider putting it into a function. This way, you can reuse the function without rewriting the code, making your programs more efficient and easier to maintain."
   ]
  },
  {
   "cell_type": "code",
   "execution_count": null,
   "metadata": {},
   "outputs": [],
   "source": [
    "# Without a function: repetitive code\n",
    "books_sales = tableresult.filter(pl.col(\"Category\") == \"Toys\").select(pl.col(\"TotalAmount\").sum()).to_numpy()[0][0]\n",
    "clothing_sales = tableresult.filter(pl.col(\"Category\") == \"Clothing\").select(pl.col(\"TotalAmount\").sum()).to_numpy()[0][0]"
   ]
  },
  {
   "cell_type": "code",
   "execution_count": null,
   "metadata": {},
   "outputs": [],
   "source": [
    "print(f\"Total book sales are: {books_sales}\")\n",
    "print(f\"Total clothing sales are: {clothing_sales}\")"
   ]
  },
  {
   "cell_type": "code",
   "execution_count": null,
   "metadata": {},
   "outputs": [],
   "source": [
    "# With a function: reusable and concise\n",
    "def calculate_sales(dataframe, category):\n",
    "    \"\"\"\n",
    "    Filters the DataFrame by the given category and calculates the total sales.\n",
    "    \"\"\"\n",
    "    return (\n",
    "        dataframe\n",
    "        .filter(pl.col(\"Category\") == category)\n",
    "        .select(pl.col(\"TotalAmount\").sum())\n",
    "        .to_numpy()[0][0]  # Extract the scalar result\n",
    "    )"
   ]
  },
  {
   "cell_type": "code",
   "execution_count": null,
   "metadata": {},
   "outputs": [],
   "source": [
    "# Using the function\n",
    "books_sales_function = calculate_sales(tableresult, \"Toys\")\n",
    "clothing_sales_function = calculate_sales(tableresult, \"Clothing\")"
   ]
  },
  {
   "cell_type": "code",
   "execution_count": null,
   "metadata": {},
   "outputs": [],
   "source": [
    "print(f\"Total book sales are: {books_sales_function}\")\n",
    "print(f\"Total clothing sales are: {clothing_sales_function}\")"
   ]
  }
 ],
 "metadata": {
  "kernelspec": {
   "display_name": ".venv",
   "language": "python",
   "name": "python3"
  },
  "language_info": {
   "codemirror_mode": {
    "name": "ipython",
    "version": 3
   },
   "file_extension": ".py",
   "mimetype": "text/x-python",
   "name": "python",
   "nbconvert_exporter": "python",
   "pygments_lexer": "ipython3",
   "version": "3.12.5"
  }
 },
 "nbformat": 4,
 "nbformat_minor": 2
}
