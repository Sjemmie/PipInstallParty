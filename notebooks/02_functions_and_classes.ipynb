{
 "cells": [
  {
   "cell_type": "markdown",
   "metadata": {},
   "source": [
    "# Introduction to Functions and Classes in Python\n",
    "\n",
    "## Functions\n",
    "\n",
    "A **function** is a reusable block of code designed to perform a specific task. It takes inputs (called parameters), processes them, and can return an output. Functions help organize code, reduce repetition, and make programs easier to read and maintain.\n",
    "\n",
    "Use the `def` keyword to define a function."
   ]
  },
  {
   "cell_type": "code",
   "execution_count": null,
   "metadata": {},
   "outputs": [],
   "source": [
    "def greet(name):\n",
    "    \"\"\"\n",
    "    This function takes a name as input and prints a greeting.\n",
    "    \"\"\"\n",
    "    print(f\"Hello, {name}!\")"
   ]
  },
  {
   "cell_type": "code",
   "execution_count": null,
   "metadata": {},
   "outputs": [],
   "source": [
    "greet(\"Alice\")"
   ]
  },
  {
   "cell_type": "markdown",
   "metadata": {},
   "source": [
    "## Classes\n",
    "A class is a blueprint for creating objects that encapsulate data (attributes) and behavior (methods). It defines how objects are structured and interact, allowing for organized, reusable, and modular code. Classes are fundamental to object-oriented programming. 'Function' inside are class are called methods.\n",
    "\n",
    "use the `class` keyword to define a class. "
   ]
  },
  {
   "cell_type": "code",
   "execution_count": null,
   "metadata": {},
   "outputs": [],
   "source": [
    "class Person:\n",
    "    \"\"\"\n",
    "    This class represents a person with a name and age.\n",
    "    \"\"\"\n",
    "    def __init__(self, name, age):\n",
    "        \"\"\"\n",
    "        The __init__ method initializes the attributes of the class.\n",
    "        \"\"\"\n",
    "        self.name = name  # Assign the name\n",
    "        self.age = age    # Assign the age\n",
    "    \n",
    "    def introduce(self):\n",
    "        \"\"\"\n",
    "        This method introduces the person.\n",
    "        \"\"\"\n",
    "        print(f\"My name is {self.name} and I am {self.age} years old.\")\n"
   ]
  },
  {
   "cell_type": "markdown",
   "metadata": {},
   "source": [
    "You can create different 'objects' for different 'person'."
   ]
  },
  {
   "cell_type": "code",
   "execution_count": null,
   "metadata": {},
   "outputs": [],
   "source": [
    "# Create a Person object\n",
    "person1 = Person(\"Youri\", 27)\n",
    "person1.introduce()"
   ]
  },
  {
   "cell_type": "code",
   "execution_count": null,
   "metadata": {},
   "outputs": [],
   "source": [
    "# Create another Person\n",
    "person2 = Person(\"Arie\", 31)\n",
    "person2.introduce()"
   ]
  },
  {
   "cell_type": "markdown",
   "metadata": {},
   "source": [
    "For each of these people you can see their individual name or age"
   ]
  },
  {
   "cell_type": "code",
   "execution_count": null,
   "metadata": {},
   "outputs": [],
   "source": [
    "person1.age, person2.name"
   ]
  },
  {
   "cell_type": "markdown",
   "metadata": {},
   "source": [
    "You can create new attributes by assigning self values. Think of things like place, sex etc etc"
   ]
  },
  {
   "cell_type": "markdown",
   "metadata": {},
   "source": [
    "## Function with numbers"
   ]
  },
  {
   "cell_type": "code",
   "execution_count": null,
   "metadata": {},
   "outputs": [],
   "source": [
    "def add_numbers(a, b):\n",
    "    \"\"\"\n",
    "    This function returns the sum of two numbers.\n",
    "    \"\"\"\n",
    "    return a + b"
   ]
  },
  {
   "cell_type": "code",
   "execution_count": null,
   "metadata": {},
   "outputs": [],
   "source": [
    "add_numbers(5, 7) "
   ]
  },
  {
   "cell_type": "markdown",
   "metadata": {},
   "source": [
    "## Class with numbers"
   ]
  },
  {
   "cell_type": "code",
   "execution_count": null,
   "metadata": {},
   "outputs": [],
   "source": [
    "class Calculator:\n",
    "    \"\"\"\n",
    "    This class performs basic arithmetic operations.\n",
    "    \"\"\"\n",
    "    def add(self, a, b):\n",
    "        return a + b\n",
    "    \n",
    "    def subtract(self, a, b):\n",
    "        return a - b\n",
    "    \n",
    "    def multiply(self, a, b):\n",
    "        return a * b\n",
    "    \n",
    "    def divide(self, a, b):\n",
    "        if b != 0:\n",
    "            return a / b\n",
    "        else:\n",
    "            return \"Error: Division by zero!\"\n"
   ]
  },
  {
   "cell_type": "markdown",
   "metadata": {},
   "source": [
    "We can instansiate a class as variable. This allows us to use a shorthand convention "
   ]
  },
  {
   "cell_type": "code",
   "execution_count": null,
   "metadata": {},
   "outputs": [],
   "source": [
    "calc = Calculator()"
   ]
  },
  {
   "cell_type": "code",
   "execution_count": null,
   "metadata": {},
   "outputs": [],
   "source": [
    "# Perform operations\n",
    "print(calc.add(10, 5))\n",
    "print(calc.subtract(10, 5))\n",
    "print(calc.multiply(10, 5))\n",
    "print(calc.divide(10, 2))    \n",
    "print(calc.divide(10, 0))   "
   ]
  }
 ],
 "metadata": {
  "kernelspec": {
   "display_name": ".venv",
   "language": "python",
   "name": "python3"
  },
  "language_info": {
   "codemirror_mode": {
    "name": "ipython",
    "version": 3
   },
   "file_extension": ".py",
   "mimetype": "text/x-python",
   "name": "python",
   "nbconvert_exporter": "python",
   "pygments_lexer": "ipython3",
   "version": "3.12.5"
  }
 },
 "nbformat": 4,
 "nbformat_minor": 2
}
