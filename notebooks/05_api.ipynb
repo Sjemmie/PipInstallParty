{
 "cells": [
  {
   "cell_type": "markdown",
   "metadata": {},
   "source": [
    "# API\n",
    "In this notebook I will provide a short introduction into using API's with Python"
   ]
  },
  {
   "cell_type": "code",
   "execution_count": null,
   "metadata": {},
   "outputs": [],
   "source": [
    "from azure.identity import ClientSecretCredential\n",
    "import requests\n",
    "from dotenv import load_dotenv\n",
    "import os"
   ]
  },
  {
   "cell_type": "code",
   "execution_count": null,
   "metadata": {},
   "outputs": [],
   "source": [
    "load_dotenv()"
   ]
  },
  {
   "cell_type": "code",
   "execution_count": null,
   "metadata": {},
   "outputs": [],
   "source": [
    "# Define the parameters needed for the API call\n",
    "tenant_id = os.getenv(\"FABRIC_API_TENANT_ID\")\n",
    "client_id = os.getenv(\"FABRIC_API_CLIENT_ID\")\n",
    "client_secret = os.getenv(\"FABRIC_API_CLIENT_SECRET\")\n",
    "scope = 'https://api.fabric.microsoft.com/.default'"
   ]
  },
  {
   "cell_type": "code",
   "execution_count": null,
   "metadata": {},
   "outputs": [],
   "source": [
    "# We now retrieve all secrets based on the parameters defined earlier\n",
    "client_secret_credential_class = ClientSecretCredential(tenant_id=tenant_id, client_id=client_id, client_secret=client_secret)\n",
    "access_token_class = client_secret_credential_class.get_token(scope)\n",
    "token_string = access_token_class.token"
   ]
  },
  {
   "cell_type": "code",
   "execution_count": null,
   "metadata": {},
   "outputs": [],
   "source": [
    "# THis is the actual API call. We are using the requests library to make the call.\n",
    "header = {'Content-Type':'application/json','Authorization': f'Bearer {token_string}'}\n",
    "url = 'https://api.fabric.microsoft.com/v1/workspaces'\n",
    "response = requests.get(url=url, headers=header)"
   ]
  },
  {
   "cell_type": "code",
   "execution_count": null,
   "metadata": {},
   "outputs": [],
   "source": [
    "# The response 9/10 times is a JSON object. We can use the json() method to convert it to a python dictionary\n",
    "response.json()"
   ]
  },
  {
   "cell_type": "markdown",
   "metadata": {},
   "source": [
    "To interact with an API, the process generally involves three main steps:\n",
    "\n",
    "1. **Authentication**: This is the first step where you authenticate yourself with the API provider. This often involves providing credentials such as a client ID, client secret, and tenant ID. The authentication process typically returns an access token that will be used in subsequent API calls.\n",
    "\n",
    "2. **Retrieve Secrets**: Once authenticated, you may need to retrieve additional secrets or tokens required for accessing specific resources. These secrets are often scoped to specific permissions or roles.\n",
    "\n",
    "3. **API Call**: With the access token and any required secrets, you can make the actual API call. This involves sending a request (e.g., GET, POST) to the API endpoint with the necessary headers (e.g., Authorization) and parameters. The response is usually in JSON format, which can be parsed and used in your application.\n",
    "\n",
    "[Here](https://learn.microsoft.com/pdf?url=https%3A%2F%2Flearn.microsoft.com%2Fen-us%2Frest%2Fapi%2Ffabric%2Ftoc.json) you will find all currently available Fabric API calls."
   ]
  },
  {
   "cell_type": "code",
   "execution_count": null,
   "metadata": {},
   "outputs": [],
   "source": [
    "# Since we used the url = 'https://api.fabric.microsoft.com/v1/workspaces' we will now build upon this endpoint to get the details of a specific workspace\n",
    "# We retrieve the workspace id from the previous response\n",
    "workspace_id = \"72e84e34-91af-4979-b964-494963c114da\" \n",
    "\n",
    "# We append the workspace id to the endpoint\n",
    "url = f\"https://api.fabric.microsoft.com/v1/workspaces/{workspace_id}/lakehouses/\"\n",
    "\n",
    "# We make the API call\n",
    "response = requests.get(url=url, headers=header)"
   ]
  },
  {
   "cell_type": "code",
   "execution_count": null,
   "metadata": {},
   "outputs": [],
   "source": [
    "response.json()"
   ]
  },
  {
   "cell_type": "code",
   "execution_count": null,
   "metadata": {},
   "outputs": [],
   "source": [
    "# We will dive even further into a lakehouse retrieving all tables present. \n",
    "\n",
    "# We retrieve the workspace id AND lakehouse ID from the previous responses\n",
    "workspace_id = \"72e84e34-91af-4979-b964-494963c114da\"\n",
    "lakehouse_id = \"7ab0cc8c-3d29-4061-b779-644c65b7238f\"\n",
    "\n",
    "# We append the workspace id to the endpoint\n",
    "url = f\"https://api.fabric.microsoft.com/v1/workspaces/{workspace_id}/lakehouses/{lakehouse_id}/tables\"\n",
    "\n",
    "# We make the API call\n",
    "response = requests.get(url=url, headers=header)"
   ]
  },
  {
   "cell_type": "code",
   "execution_count": null,
   "metadata": {},
   "outputs": [],
   "source": [
    "response.json()"
   ]
  },
  {
   "cell_type": "markdown",
   "metadata": {},
   "source": [
    "# API Methods: POST, PUT, DELETE, GET, PATCH, HEAD, OPTIONS, TRACE\n",
    "\n",
    "APIs typically support several HTTP methods to interact with resources. Here is an overview of the most commonly used methods:\n",
    "\n",
    "1. **GET**:\n",
    "    - Purpose: Retrieve data from the server.\n",
    "    - Characteristics: \n",
    "      - It is a read-only operation and does not modify any data on the server.\n",
    "      - Responses are typically in JSON or XML format.\n",
    "    - Example: Fetching a list of users or retrieving details of a specific resource.\n",
    "    - Safe and idempotent.\n",
    "\n",
    "2. **POST**:\n",
    "    - Purpose: Create a new resource on the server.\n",
    "    - Characteristics:\n",
    "      - Sends data to the server in the request body.\n",
    "      - Often used for submitting forms or uploading files.\n",
    "    - Example: Creating a new user or adding a new record to a database.\n",
    "    - Not idempotent (repeating the request creates duplicate resources).\n",
    "\n",
    "3. **PUT**:\n",
    "    - Purpose: Update an existing resource or create a resource if it does not exist.\n",
    "    - Characteristics:\n",
    "      - Sends the complete updated data in the request body.\n",
    "      - Typically used for full updates.\n",
    "    - Example: Updating user details or replacing a file.\n",
    "    - Idempotent (repeating the request has the same effect as a single request).\n",
    "\n",
    "4. **DELETE**:\n",
    "    - Purpose: Remove a resource from the server.\n",
    "    - Characteristics:\n",
    "      - Deletes the specified resource.\n",
    "      - Often requires authentication or specific permissions.\n",
    "    - Example: Deleting a user or removing a file.\n",
    "    - Idempotent (repeating the request has the same effect as a single request).\n",
    "\n",
    "5. **PATCH**:\n",
    "    - Purpose: Partially update an existing resource.\n",
    "    - Characteristics:\n",
    "      - Sends only the fields to be updated in the request body.\n",
    "      - Typically used for partial updates.\n",
    "    - Example: Updating a user's email address without modifying other details.\n",
    "    - Not necessarily idempotent (depends on implementation).\n",
    "\n",
    "6. **HEAD**:\n",
    "    - Purpose: Retrieve metadata about a resource without fetching the actual data.\n",
    "    - Characteristics:\n",
    "      - Similar to GET but does not return the response body.\n",
    "      - Useful for checking if a resource exists or retrieving headers.\n",
    "    - Example: Checking if a file exists on the server.\n",
    "\n",
    "7. **OPTIONS**:\n",
    "    - Purpose: Describe the communication options for the target resource.\n",
    "    - Characteristics:\n",
    "      - Returns the allowed HTTP methods for a resource.\n",
    "      - Useful for CORS (Cross-Origin Resource Sharing) preflight requests.\n",
    "    - Example: Checking which methods are supported by an API endpoint.\n",
    "\n",
    "8. **TRACE**:\n",
    "    - Purpose: Perform a message loop-back test along the path to the target resource.\n",
    "    - Characteristics:\n",
    "      - Used for debugging purposes.\n",
    "      - Returns the request as received by the server.\n",
    "    - Example: Diagnosing issues with intermediate proxies or servers.\n",
    "\n",
    "Each method serves a specific purpose and is used depending on the operation you want to perform on the resource. Understanding these methods is essential for designing and interacting with RESTful APIs effectively."
   ]
  },
  {
   "cell_type": "code",
   "execution_count": null,
   "metadata": {},
   "outputs": [],
   "source": [
    "# We will now create a new lakehouse as example of using the POST method. A post method requires a payload to define what we are creating.\n",
    "workspace_id = \"72e84e34-91af-4979-b964-494963c114da\"\n",
    "\n",
    "# We should also define a payload. The way it should be setup can be found on the API documentation. Each API has its own way of defining the payload.\n",
    "payload = {\n",
    "    \"displayName\": \"KijkDitIsnogeenLakehouse\",\n",
    "    \"description\": \"This is a new lakehouse created via API.\"\n",
    "}\n",
    "\n",
    "url = f\"https://api.fabric.microsoft.com/v1/workspaces/{workspace_id}/lakehouses\"\n",
    "\n",
    "# We make the API call\n",
    "response = requests.post(url=url, headers=header, json=payload)"
   ]
  },
  {
   "cell_type": "code",
   "execution_count": null,
   "metadata": {},
   "outputs": [],
   "source": [
    "response.json()"
   ]
  },
  {
   "cell_type": "code",
   "execution_count": null,
   "metadata": {},
   "outputs": [],
   "source": [
    "# We decide that the name of the lakehouse is not what we want. We will PATCH it. \n",
    "workspace_id = \"72e84e34-91af-4979-b964-494963c114da\"\n",
    "lakehouse_id = \"631b2935-aa50-4f9d-ad7f-912121685f53\"\n",
    "\n",
    "# We should also define a payload. The way it should be setup can be found on the API documentation.\n",
    "payload = {\n",
    "    \"displayName\": \"ThisIsTheNewLakehouseName\",\n",
    "    \"description\": \"This is a new lakehouse created via API after renaming.\"\n",
    "}\n",
    "\n",
    "url = f\"https://api.fabric.microsoft.com/v1/workspaces/{workspace_id}/lakehouses/{lakehouse_id}\"\n",
    "\n",
    "# We make the API call\n",
    "response = requests.patch(url=url, headers=header, json=payload)"
   ]
  },
  {
   "cell_type": "code",
   "execution_count": null,
   "metadata": {},
   "outputs": [],
   "source": [
    "response.json()"
   ]
  },
  {
   "cell_type": "code",
   "execution_count": null,
   "metadata": {},
   "outputs": [],
   "source": [
    "# Since we created a new lakehouse, We should also be able to delete it. We will use the DELETE method for this.\n",
    "workspace_id = \"72e84e34-91af-4979-b964-494963c114da\"\n",
    "lakehouse_id = \"f8596467-57fc-4588-bbc6-b05dc52ca4b9\"\n",
    "\n",
    "url = f\"https://api.fabric.microsoft.com/v1/workspaces/{workspace_id}/lakehouses/{lakehouse_id}\"\n",
    "\n",
    "# We make the API call. Notice how we do not need a payload now.\n",
    "response = requests.delete(url=url, headers=header)"
   ]
  },
  {
   "cell_type": "code",
   "execution_count": null,
   "metadata": {},
   "outputs": [],
   "source": [
    "# We can check the status code to see if the delete was successful. A 200 status code means the delete was successful.We cannot use the .json() method here as there is no JSON response.\n",
    "response"
   ]
  }
 ],
 "metadata": {
  "kernelspec": {
   "display_name": ".venv",
   "language": "python",
   "name": "python3"
  },
  "language_info": {
   "codemirror_mode": {
    "name": "ipython",
    "version": 3
   },
   "file_extension": ".py",
   "mimetype": "text/x-python",
   "name": "python",
   "nbconvert_exporter": "python",
   "pygments_lexer": "ipython3",
   "version": "3.12.5"
  }
 },
 "nbformat": 4,
 "nbformat_minor": 2
}
